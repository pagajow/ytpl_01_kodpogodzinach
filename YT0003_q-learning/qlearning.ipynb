{
 "cells": [
  {
   "cell_type": "code",
   "execution_count": 1,
   "metadata": {},
   "outputs": [],
   "source": [
    "from qlearning import *"
   ]
  },
  {
   "cell_type": "code",
   "execution_count": 2,
   "metadata": {},
   "outputs": [
    {
     "name": "stdout",
     "output_type": "stream",
     "text": [
      "trenuję...\n",
      "zakończyłem trening.\n"
     ]
    }
   ],
   "source": [
    "q = Qlearn()\n",
    "q.trenuj()"
   ]
  },
  {
   "cell_type": "code",
   "execution_count": 3,
   "metadata": {},
   "outputs": [
    {
     "name": "stdout",
     "output_type": "stream",
     "text": [
      "\n",
      "testuję agenta:\n",
      "Krok 0: (0, 0) -(3)-> (0, 1), Q: 9.506071604514899 / [5.7967466  5.57143008 6.44854947 9.5060716 ]\n",
      "Krok 1: (0, 1) -(3)-> (0, 2), Q: 9.604583882115493 / [7.50806242 5.15062234 6.78016462 9.60458388]\n",
      "Krok 2: (0, 2) -(3)-> (0, 3), Q: 9.702545463422217 / [ 7.05454645 -9.98003322  7.38130218  9.70254546]\n",
      "Krok 3: (0, 3) -(1)-> (1, 3), Q: 9.800885556366126 / [7.79388043 9.80088556 7.20179899 5.62465277]\n",
      "Krok 4: (1, 3) -(1)-> (2, 3), Q: 9.899978935787708 / [ 8.17248162  9.89997894 -9.41850263  5.3789955 ]\n",
      "Krok 5: (2, 3) -(1)-> (3, 3), Q: 9.999997681730783 / [ 8.12721043  9.99999768 -8.14697981  3.14392326]\n",
      "KONIEC: cel osiągniety\n"
     ]
    },
    {
     "data": {
      "text/plain": [
       "{'liczba_epizodow': 300,\n",
       " 'cel': (3, 3),\n",
       " 'przeszkody': [(1, 2), (2, 2), (3, 2), (3, 1)],\n",
       " 'stany': [(0, 0), (0, 1), (0, 2), (0, 3), (1, 3), (2, 3), (3, 3)]}"
      ]
     },
     "execution_count": 3,
     "metadata": {},
     "output_type": "execute_result"
    }
   ],
   "source": [
    "dane = q.testuj()\n",
    "dane"
   ]
  }
 ],
 "metadata": {
  "kernelspec": {
   "display_name": "mlenv",
   "language": "python",
   "name": "python3"
  },
  "language_info": {
   "codemirror_mode": {
    "name": "ipython",
    "version": 3
   },
   "file_extension": ".py",
   "mimetype": "text/x-python",
   "name": "python",
   "nbconvert_exporter": "python",
   "pygments_lexer": "ipython3",
   "version": "3.10.9"
  }
 },
 "nbformat": 4,
 "nbformat_minor": 2
}
